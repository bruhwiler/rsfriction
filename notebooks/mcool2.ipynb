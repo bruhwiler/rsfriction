{
 "cells": [
  {
   "cell_type": "markdown",
   "metadata": {},
   "source": [
    "# New Algorithms for Simulating Dynamical Friction\n",
    "\n",
    "## Dan T. Abell, David L. Bruhwiler, Stephen D. Webb — *RadiaSoft, LLC*\n",
    "\n",
    "This notebook describes—and documents in code—algorithms for simulating  \n",
    "the dynamical friction experienced by ions in the presence of magnetized electrons."
   ]
  },
  {
   "cell_type": "markdown",
   "metadata": {},
   "source": [
    "The $\\LaTeX$ preamble is *here*.\n",
    "$$\n",
    "%% math text\n",
    "\\newcommand{\\hmhsp}{\\mspace{1mu}}% math hair space\n",
    "\\newcommand{\\mhsp}{\\mspace{2mu}}% math hair space\n",
    "\\newcommand{\\ud}{\\mathop{}\\!\\mathrm{d}}% upright d for differential\n",
    "\\newcommand{\\ui}{\\mathrm{i}}% upright i for imaginary unit\n",
    "\\newcommand{\\ue}{\\mathrm{e}}% upright e for Euler number\n",
    "%%\n",
    "\\newcommand{\\Mion}{m_\\text{ion}}\n",
    "\\newcommand{\\Me}{m_\\text{e}}\n",
    "%%\n",
    "\\newcommand{\\vQion}{\\vec{q}_\\text{ion}}\n",
    "\\newcommand{\\vPion}{\\vec{p}_\\text{ion}}\n",
    "\\newcommand{\\Qion}[1]{#1_\\text{ion}}\n",
    "\\newcommand{\\Pion}[1]{p_{\\text{ion},\\hmhsp#1}}\n",
    "%%\n",
    "\\newcommand{\\vQe}{\\vec{q}_\\text{e}}\n",
    "\\newcommand{\\vPe}{\\vec{p}_\\text{e}}\n",
    "\\newcommand{\\Qe}[1]{#1_\\text{e}}\n",
    "\\newcommand{\\Pe}[1]{p_{\\text{e},\\hmhsp#1}}\n",
    "%%\n",
    "\\newcommand{\\Map}[2][]{\\mathcal{#2}^{#1}}\n",
    "%%\n",
    "\\newcommand{\\pgc}{p_\\text{gc}}\n",
    "\\newcommand{\\xgc}{x_\\text{gc}}\n",
    "\\newcommand{\\ygc}{y_\\text{gc}}\n",
    "$$"
   ]
  },
  {
   "cell_type": "code",
   "execution_count": 2,
   "metadata": {
    "collapsed": false
   },
   "outputs": [],
   "source": [
    "\"\"\" Python preamble \"\"\"\n",
    "%matplotlib inline"
   ]
  },
  {
   "cell_type": "code",
   "execution_count": 16,
   "metadata": {
    "collapsed": false
   },
   "outputs": [
    {
     "name": "stdout",
     "output_type": "stream",
     "text": [
      "1.672621898e-27\n"
     ]
    }
   ],
   "source": [
    "print mp"
   ]
  },
  {
   "cell_type": "code",
   "execution_count": 3,
   "metadata": {
    "collapsed": false
   },
   "outputs": [],
   "source": [
    "\"\"\" Python preamble (cont.) \"\"\"\n",
    "from __future__ import division\n",
    "\n",
    "import numpy as np\n",
    "import math\n",
    "import matplotlib.pyplot as plt\n",
    "import matplotlib.cm as cm\n",
    "from matplotlib.colors import LogNorm\n",
    "import matplotlib as mpl\n",
    "\n",
    "from scipy.constants import pi\n",
    "from scipy.constants import speed_of_light as clight\n",
    "from scipy.constants import epsilon_0 as eps0\n",
    "from scipy.constants import mu_0 as mu0\n",
    "from scipy.constants import elementary_charge as qe\n",
    "from scipy.constants import electron_mass as me\n",
    "from scipy.constants import proton_mass as mp\n",
    "from scipy.constants import Boltzmann as kB\n",
    "fourPiEps0 = 4 * pi * eps0\n",
    "invFourPiEps0 = 1 / fourPiEps0\n",
    "\n",
    "\"\"\" reset some default options \"\"\"\n",
    "np.set_printoptions(linewidth=96)\n",
    "\n",
    "\"\"\" indexing \"\"\"\n",
    "(Ix, Ipx, Iy, Ipy, Iz, Ipz) = range(6)\n",
    "\n",
    "\"\"\" prefixes \"\"\"\n",
    "(femto, pico, nano, micro, milli, one, kilo, mega, giga, tera, peta) = \\\n",
    "    10. ** np.asarray(range(-15, 15+1, 3))"
   ]
  },
  {
   "cell_type": "markdown",
   "metadata": {},
   "source": [
    "We define the ion charge and mass here as global parameters.  \n",
    "We do the same for the magnetic field strength $B$ and the  \n",
    "thermal velocity $v_\\text{th}$.  \n",
    "\n",
    "Then we compute various related derived quantities."
   ]
  },
  {
   "cell_type": "code",
   "execution_count": 4,
   "metadata": {
    "collapsed": false
   },
   "outputs": [
    {
     "name": "stdout",
     "output_type": "stream",
     "text": [
      "V_th =  95361.4171888\n",
      "rho_gc / µm =  0.542189740332\n",
      "Omega_e / s^(-1) =  -1.7588200236e+11\n",
      "frequency / GHz =  -27.9924900765\n",
      "T_e / ns =  0.0357238672682\n",
      "T_intxn / ns =  3.57238672682\n"
     ]
    }
   ],
   "source": [
    "\"\"\"\n",
    "angular frequency of Larmor rotations\n",
    "NB: This is a *signed* quantity, which means\n",
    "that for electrons, say, you must set Z = -1.\n",
    "\"\"\"\n",
    "def omega_Larmor(mass, B, Z = 1):\n",
    "    return Z * qe * B / mass\n",
    "\n",
    "Z_ion = 1\n",
    "M_ion = mp\n",
    "B_mag = 1. # Tesla\n",
    "e_temp = 300. # Kelvin\n",
    "\n",
    "N_gyro = 100 # a somewhat arbitrary choice, range [100, 160] \n",
    "\n",
    "\"\"\" derived quantities \"\"\"\n",
    "V_th = math.sqrt(2 * kB * e_temp / me)\n",
    "rho_gc = me * V_th / (qe * B_mag)\n",
    "Omega_e = omega_Larmor(me, B_mag, Z = -1)\n",
    "T_e = (2 * pi) / abs(Omega_e)\n",
    "T_intxn = N_gyro * T_e\n",
    "\n",
    "print \"V_th = \", V_th\n",
    "print \"rho_gc / µm = \", rho_gc / micro\n",
    "print \"Omega_e / s^(-1) = \", Omega_e\n",
    "print \"frequency / GHz = \", Omega_e / (2 * pi) / giga\n",
    "print \"T_e / ns = \", T_e / nano\n",
    "print \"T_intxn / ns = \", T_intxn / nano"
   ]
  },
  {
   "cell_type": "markdown",
   "metadata": {},
   "source": [
    "## Two-body Magnetized Collisions\n",
    "\n",
    "The Hamiltonian for a two-body interaction between an ion and a magnetized electron is\n",
    "$$\n",
    "\\vphantom{\\Big]}\n",
    "  H(\\vQion, \\vPion, \\vQe, \\vPe)\n",
    "    = H_0(\\vPion, \\Qe{y}, \\vPe)\n",
    "    + H_\\text{C}(\\vQion, \\vQe)\n",
    "$$\n",
    "where\n",
    "$$\n",
    "\\begin{align}\n",
    "  H_0(\\vPion, \\Qe{y}, \\vPe)\n",
    "    &= \\frac{1}{2\\Mion}\\bigl(\\Pion{x}^2 + \\Pion{y}^2 + \\Pion{z}^2\\bigr)\n",
    "     + \\frac{1}{2\\Me}\\bigl((\\Pe{x} + e B \\Qe{y})^2 + \\Pe{y}^2 + \\Pe{z}^2\\bigr),\\\\[1ex]\n",
    "  H_\\text{C}(\\vQion, \\vQe)\n",
    "    &= -\\frac{Ze^2}{4\\pi\\varepsilon_0} \\big/\n",
    "                {\\sqrt{(\\Qion{x}-\\Qe{x})^2 + (\\Qion{y}-\\Qe{y})^2 + (\\Qion{z}-\\Qe{z})^2}},\n",
    "\\end{align}\\\\[1ex]\n",
    "$$\n",
    "and $e$ denotes the elementary quantum of charge.\n",
    "\n",
    "The simplest second-order scheme for integrating this system uses  \n",
    "a *split-operator* approach: We approximate the total map $\\Map{M}$ for a  \n",
    "time step of size $h$ by the symmetric form\n",
    "$$\n",
    "\\vphantom{\\Big]}\n",
    "  \\Map{M}(h) \\approx \\Map{M}_0(h/2) \\Map{M}_C(h) \\Map{M}_0(h/2)\n",
    "$$\n",
    "where $\\Map{M}_0$ and $\\Map{M}_C$ are the exact maps for the Hamiltonians $H_0$  \n",
    "and $H_C$ respectively. The map $\\Map{M}_0$ is a simple linear map. The map  \n",
    "$\\Map{M}_C$ generates a nonlinear kick of both ion and electron momenta."
   ]
  },
  {
   "cell_type": "markdown",
   "metadata": {},
   "source": [
    "### Hamiltonians for Two-body Magnetized Collisions"
   ]
  },
  {
   "cell_type": "code",
   "execution_count": 5,
   "metadata": {
    "collapsed": true
   },
   "outputs": [],
   "source": [
    "\"\"\"\n",
    "Hamiltonian for free ion and electron in a magnetic field, under\n",
    "the assuption that the ion is unaffected by that magnetic field.\n",
    "\n",
    "Arguments:\n",
    "  z_i (ndArray): 6 x N array of canonical coördinates\n",
    "                 and conjugate momenta for the ions\n",
    "  z_e (ndArray): 6 x N array of canonical coördinates\n",
    "                 and conjugate momenta for the electrons\n",
    "  In both of the above arrays, the six phase-space variables\n",
    "  are given in the order(x, px, y, py, z, pz)\n",
    "\n",
    "Return:\n",
    "  the total 'free' energy of each ion-electron pair\n",
    "  \n",
    "\"\"\"\n",
    "def H_twobody_0(z_i, z_e):\n",
    "    ham_i = ((z_i[Ipx,:] ** 2 + z_i[Ipy,:] ** 2 + z_i[Ipz,:] ** 2)\n",
    "             / (2 * M_ion))\n",
    "    ham_e = ((z_e[Ipx,:] + (-qe) * B_mag * z_e[Iy,:]) ** 2\n",
    "             + z_e[Ipy,:] ** 2 + z_e[Ipz,:] ** 2) / (2 * me)\n",
    "    return ham_i + ham_e\n",
    "\n",
    "\"\"\"\n",
    "Hamiltonian for the interaction of each ion-electron pair.\n",
    "\"\"\"\n",
    "def H_twobody_C(z_i, z_e):\n",
    "    g_ie = -(Z_ion * qe ** 2) / (4 * pi * eps0)\n",
    "    intxn = g_ie / np.sqrt(\n",
    "        + (z_i[Ix,:] - z_e[Ix,:]) ** 2\n",
    "        + (z_i[Iy,:] - z_e[Iy,:]) ** 2\n",
    "        + (z_i[Iz,:] - z_e[Iz,:]) ** 2)\n",
    "    return intxn\n",
    "\n",
    "\"\"\"\n",
    "Total Hamiltonian for each ion-electron pair.\n",
    "\"\"\"\n",
    "def H_twobody(z_i, z_e):\n",
    "    ham_0 = H_twobody_0(z_i, z_e)\n",
    "    ham_C = H_twobody_C(z_i, z_e)\n",
    "    return ham_0 + ham_C"
   ]
  },
  {
   "cell_type": "markdown",
   "metadata": {},
   "source": [
    "### Maps for Two-body Magnetized Collisions"
   ]
  },
  {
   "cell_type": "code",
   "execution_count": 6,
   "metadata": {
    "collapsed": false
   },
   "outputs": [],
   "source": [
    "\"\"\"\n",
    "define transfer maps for ions and electrons\n",
    "There are three maps to define here: one each\n",
    "for ions and electrons under H_0, and another\n",
    "\"\"\"\n",
    "\n",
    "\"\"\" matrix for a linear drift \"\"\"\n",
    "def MatD(mass, h):\n",
    "    Mdrift = np.identity(6)\n",
    "    for i in (Ix, Iy, Iz):\n",
    "        Mdrift[i, i + 1] = h / mass\n",
    "    return Mdrift\n",
    "\n",
    "\"\"\" matrix for linear electron dynamics in a solenoidal field \"\"\"\n",
    "def MatK0_e(h):\n",
    "    mw = me * Omega_e\n",
    "    wh = Omega_e * h\n",
    "    cwh = math.cos(wh)\n",
    "    swh = math.sin(wh)\n",
    "    cwh1m = 2 * math.sin(wh / 2) ** 2  # 1 - cos(a) = 2 sin^2(a / 2)\n",
    "    MK0 = np.identity(6)\n",
    "    MK0[Iy,  Iy ] = cwh\n",
    "    MK0[Ipy, Ipy] = cwh\n",
    "    MK0[Iy,  Ipy] = swh / mw\n",
    "    MK0[Ipy, Iy ] = -mw * swh\n",
    "    MK0[Iz,  Ipz] = h / me\n",
    "    MK0[Ix,  Ipx] = swh / mw\n",
    "    MK0[Ix,  Iy ] = swh\n",
    "    MK0[Ix,  Ipy] = cwh1m / mw\n",
    "    MK0[Iy,  Ipx] = -cwh1m / mw\n",
    "    MK0[Ipy, Ipx] = -swh\n",
    "    return MK0\n",
    "\n",
    "\"\"\"\n",
    "map phase-space coördinates forward in time by amount h\n",
    "based on the Hamiltonian H_0, which describes the free\n",
    "motion of ions and the motion of electrons in a solenoidal\n",
    "magnetic field\n",
    "\"\"\"\n",
    "def MapZ_0(h, z_i, z_e):\n",
    "    mat = MatD(M_ion, h)\n",
    "    zf_i = mat.dot(z_i)\n",
    "    mat = MatK0_e(h)\n",
    "    zf_e = mat.dot(z_e)\n",
    "    return zf_i, zf_e\n",
    "\n",
    "\"\"\"\n",
    "map phase-space coördinates forward in time by amount h\n",
    "based on the Hamiltonian H_C, which describes the collision\n",
    "between a single ion-electron pair\n",
    "\"\"\"\n",
    "def MapZ_C(h, z_i, z_e):\n",
    "    g = h * Z_ion * qe ** 2 / (4 * pi * eps0)\n",
    "    dz = z_i - z_e\n",
    "    denom = (dz[Ix,:] ** 2 + dz[Iy,:] ** 2 + dz[Iz,:] ** 2) ** (3/2)\n",
    "    zf_i = z_i.copy()\n",
    "    zf_e = z_e.copy()\n",
    "    for ip in (Ipx, Ipy, Ipz):\n",
    "        zf_i[ip,:] = z_i[ip,:] - g * dz[ip - 1] / denom\n",
    "        zf_e[ip,:] = z_e[ip,:] + g * dz[ip - 1] / denom\n",
    "    return zf_i, zf_e\n",
    "\n",
    "def apply_MapZ_0(h, n, z_i, z_e):\n",
    "    mat_i = MatD(M_ion, h)\n",
    "    mat_e = MatK0_e(h)\n",
    "    zf_i = [z_i]\n",
    "    zf_e = [z_e]\n",
    "    for i in range(n):\n",
    "        z_i = mat_i.dot(z_i)\n",
    "        z_e = mat_e.dot(z_e)\n",
    "        zf_i.append(z_i)\n",
    "        zf_e.append(z_e)\n",
    "    return np.asarray(zf_i), np.asarray(zf_e)\n",
    "\n",
    "\"\"\" second-order split-operator integration for the total Hamiltonian \"\"\"\n",
    "def apply_MapZ(h, n, z_i, z_e):\n",
    "    hh = 0.5 * h\n",
    "    mat_i = MatD(M_ion, hh)\n",
    "    mat_e = MatK0_e(hh)\n",
    "    zf_i = [z_i]\n",
    "    zf_e = [z_e]\n",
    "    for i in range(n):\n",
    "        z_i = mat_i.dot(z_i)\n",
    "        z_e = mat_e.dot(z_e)\n",
    "        z_i, z_e = MapZ_C(h, z_i, z_e)\n",
    "        z_e = mat_e.dot(z_e)\n",
    "        z_i = mat_i.dot(z_i)\n",
    "        zf_i.append(z_i)\n",
    "        zf_e.append(z_e)\n",
    "    return np.asarray(zf_i), np.asarray(zf_e)"
   ]
  },
  {
   "cell_type": "markdown",
   "metadata": {},
   "source": [
    "## Guiding-center Coördinates and $\\Theta$-J Coördinates\n",
    "### Transformations To and From Guiding-center Coördinates and $\\Theta$-J Coördinates\n",
    "\n",
    "We transform the electron's transverse phase-space coördinates  \n",
    "using the type-1 generating function\n",
    "$$\n",
    "  F_1(x,y;\\, \\phi,\\ygc)\n",
    "    = m\\Omega\\Bigl[\\frac{1}{2}(y - \\ygc)^2\\cot\\phi - y \\ygc\\Bigr].\n",
    "$$\n",
    "This yields the following transformation rules:  \n",
    "*to* guiding-center coördinates\n",
    "$$\n",
    "\\begin{align}\n",
    "  m\\Omega &= qB_0,\n",
    "               \\quad\\text{(this is a signed quantity)}\\\\[1ex]\n",
    "  \\phi    &= \\arctan\\Bigl(\\frac{p_x + e B y}{p_y}\\Bigr),\\\\[1ex]\n",
    "  p_\\phi  &= \\frac{1}{2m\\Omega}\\bigl[(p_x + m\\Omega y)^2 + p_y^2\\bigr],\\\\[1ex]\n",
    "  \\ygc    &= -\\frac{p_x}{m\\Omega},\\\\[1ex]\n",
    "  \\pgc    &= p_y + m\\Omega x.\n",
    "\\end{align}\n",
    "$$\n",
    "*from* guiding-center coördinates\n",
    "$$\n",
    "\\begin{align}\n",
    "  r_L &= \\frac{1}{m\\Omega}\\sqrt{2m\\Omega\\,p_\\phi},\n",
    "           \\quad\\text{(this is a signed quantity)}\\\\[1ex]\n",
    "  x   &= \\frac{\\pgc}{m\\Omega} - r_L\\cos\\phi,\\\\[1ex]\n",
    "  p_x &= -m\\Omega\\,\\ygc,\\\\[1ex]\n",
    "  y   &= \\ygc + r_L\\sin\\phi,\\\\[1ex]\n",
    "  p_y &= m\\Omega\\,r_L\\cos\\phi.\n",
    "\\end{align}\n",
    "$$\n",
    "\n",
    "We also require the transformation to and from the coördinates $\\Theta$-J:\n",
    "$$\n",
    "\\begin{align}\n",
    "  \\Theta &= \\dotsb, \\\\\n",
    "  J &= p_\\phi + \\frac{Ze^2}{4\\pi\\varepsilon_0} \\frac{r_L}{\\Omega}\n",
    "      \\frac{(\\Qion{x}-\\xgc)\\cos\\phi - (\\Qion{y}-\\ygc)\\sin\\phi}{%\n",
    "        \\bigl[(\\Qion{x}-\\Qe{x})^2 + (\\Qion{y}-\\Qe{y})^2 + (\\Qion{z}-\\Qe{z})^2\n",
    "              + r_L^2\\bigr]^{3/2}}.\n",
    "\\end{align}\n",
    "$$\n",
    "\n",
    "$$\n",
    "\\begin{align}\n",
    "  \\phi &= \\dotsb, \\\\\n",
    "  p_\\phi &=  \\dotsb.\n",
    "\\end{align}\n",
    "$$"
   ]
  },
  {
   "cell_type": "code",
   "execution_count": 7,
   "metadata": {
    "collapsed": true
   },
   "outputs": [],
   "source": [
    "\"\"\" convert to guiding-center coordinates \"\"\"\n",
    "def toGuidingCenter(z_e):\n",
    "    mOmega = me * Omega_e\n",
    "    zgc = z_e.copy()\n",
    "    zgc[Ix,:]  = np.arctan2(z_e[Ipx,:] + mOmega * z_e[Iy,:], z_e[Ipy,:])\n",
    "    zgc[Ipx,:] = (((z_e[Ipx,:] + mOmega * z_e[Iy,:]) ** 2\n",
    "                   + z_e[Ipy,:] ** 2) / (2 * mOmega))\n",
    "    zgc[Iy,:]  = - z_e[Ipx,:] / mOmega\n",
    "    zgc[Ipy,:] = z_e[Ipy,:] + mOmega * z_e[Ix,:]\n",
    "    return zgc\n",
    "\n",
    "\"\"\" convert from guiding-center coordinates \"\"\"\n",
    "def fromGuidingCenter(zgc):\n",
    "    mOmega = me * Omega_e\n",
    "    rhoL = np.sqrt(2 * mOmega * zgc[Ipx,:]) / mOmega\n",
    "    z_e = zgc.copy()\n",
    "    z_e[Ix,:]  = zgc[Ipy,:] / mOmega - rhoL * np.cos(zgc[Ix,:])\n",
    "    z_e[Ipx,:] = - mOmega * zgc[Iy,:]\n",
    "    z_e[Iy,:]  = zgc[Iy,:] + rhoL * np.sin(zgc[Ix,:])\n",
    "    z_e[Ipy,:] = mOmega * rhoL * np.cos(zgc[Ix,:])\n",
    "    return z_e\n",
    "\n",
    "\"\"\" return J(z_gc) coordinates using the (probably correct) minus sign \"\"\"\n",
    "def actionJ(z_i, zgc):\n",
    "    g = Z_ion * qe ** 2 / (4 * pi * eps0)\n",
    "    mOmega = me * Omega_e\n",
    "    rhoL = np.sqrt(2 * zgc[Ipx,:] / mOmega)\n",
    "    num = ((z_i[Ix,:] - zgc[Ipy,:] / mOmega) * np.cos(zgc[Ix,:])\n",
    "        -  (z_i[Iy,:] - zgc[Iy,:]) * np.sin(zgc[Ix,:]))\n",
    "    den = ((z_i[Ix,:] - zgc[Ipy,:] / mOmega) ** 2\n",
    "        +  (z_i[Iy,:] - zgc[Iy,:]) ** 2\n",
    "        +  (z_i[Iz,:] - zgc[Iz,:]) ** 2 + rhoL ** 2) ** (3/2)\n",
    "    return zgc[Ipx,:] + g * (rhoL / Omega_e) * num / den"
   ]
  },
  {
   "cell_type": "code",
   "execution_count": 8,
   "metadata": {
    "collapsed": false
   },
   "outputs": [],
   "source": [
    "\"\"\" return the Larmor radius \"\"\"\n",
    "def rLarmor(z_e):\n",
    "    mOmega = me * Omega_e\n",
    "    return np.sqrt((z_e[Ipx,:] + mOmega * z_e[Iy,:]) ** 2 + z_e[Ipy,:] ** 2) / mOmega\n",
    "\n",
    "\"\"\" return the Larmor radius \"\"\"\n",
    "def rLarmor_gc(zgc):\n",
    "    mOmega = me * Omega_e\n",
    "    return np.sqrt(2 * mOmega * zgc[Ipx,:]) / mOmega\n",
    "\n",
    "\"\"\" return the perturbation ratio (uses the minus sign) \"\"\"\n",
    "def pertubationRatio(z_i, zgc):\n",
    "    mOmega = me * Omega_e\n",
    "    rhoL = np.sqrt(2 * mOmega * zgc[Ipx,:]) / mOmega\n",
    "    num = ((z_i[Ix,:] - zgc[Ipy,:] / mOmega) * np.cos(zgc[Ix,:])\n",
    "           - (z_i[Iy,:] - zgc[Iy,:]) * np.sin(zgc[Ix,:]))\n",
    "    den = ((z_i[Ix,:] - zgc[Ipy,:] / mOmega) ** 2\n",
    "        +  (z_i[Iy,:] - zgc[Iy,:]) ** 2\n",
    "        +  (z_i[Iz,:] - zgc[Iz,:]) ** 2 + rhoL ** 2)\n",
    "    return 2 * rhoL * num / den\n",
    "\n",
    "\"\"\" return the ratio (impact parameter) / (Larmor radius) \"\"\"\n",
    "def impactParamOverRL(z_i, zgc):\n",
    "    mOmega = me * Omega_e\n",
    "    rhoL = np.sqrt(2 * mOmega * zgc[Ipx,:]) / mOmega\n",
    "    b = np.sqrt((z_i[Ix,:] - zgc[Ipy,:] / mOmega) ** 2\n",
    "               + (z_i[Iy,:] - zgc[Iy,:]) ** 2)\n",
    "    return b / rhoL"
   ]
  },
  {
   "cell_type": "markdown",
   "metadata": {},
   "source": [
    "### Hamiltonians using Guiding-center Coördinates"
   ]
  },
  {
   "cell_type": "code",
   "execution_count": 9,
   "metadata": {
    "collapsed": true
   },
   "outputs": [],
   "source": [
    "\"\"\"\n",
    "Hamiltonian for free ion and electron in a magnetic field, under\n",
    "the assuption that the ion is unaffected by that magnetic field.\n",
    "\"\"\"\n",
    "def H_gc_0(z_i, zgc):\n",
    "    ham_i = ((z_i[Ipx,:] ** 2 + z_i[Ipy,:] ** 2 + z_i[Ipz,:] ** 2)\n",
    "             / (2 * M_ion))\n",
    "    ham_e = Omega_e * actionJ(z_i, zgc) + zgc[Ipz,:] ** 2 / (2 * me)\n",
    "    return ham_i + ham_e\n",
    "\n",
    "\"\"\"\n",
    "Hamiltonian for the ion-electron interaction\n",
    "in guiding-center (Θ,J) coördinates.\n",
    "\"\"\"\n",
    "def H_gc_C(z_i, zgc):\n",
    "    g_ie = (Z_ion * qe ** 2) / (4 * pi * eps0)\n",
    "    mOmega = me * Omega_e\n",
    "    intxn = -g_ie / np.sqrt(\n",
    "        + (z_i[Ix,:] - zgc[Ipy,:] / mOmega) ** 2\n",
    "        + (z_i[Iy,:] - zgc[Iy,:]) ** 2\n",
    "        + (z_i[Iz,:] - zgc[Iz,:]) ** 2\n",
    "        + 2 * actionJ(z_i, zgc) / mOmega)\n",
    "    return intxn\n",
    "\n",
    "\"\"\"\n",
    "total Hamiltonian for the ion-electron system in GC coördinates\n",
    "\"\"\"\n",
    "def H_gc(z_i, zgc):\n",
    "    ham_0 = H_gc_0(z_i, zgc)\n",
    "    ham_C = H_gc_C(z_i, zgc)\n",
    "    return ham_0 + ham_C\n",
    "\n",
    "\"\"\"\n",
    "Hamiltonian for the ion-electron interaction\n",
    "in guiding-center (Θ,J) coördinates.\n",
    "\"\"\"\n",
    "def H_gc_Cp(z_i, zgc):\n",
    "    g_ie = (Z_ion * qe ** 2) / (4 * pi * eps0)\n",
    "    mOmega = me * Omega_e\n",
    "    intxn = -g_ie / np.sqrt(\n",
    "        + (z_i[Ix,:] - zgc[Ipy,:] / mOmega) ** 2\n",
    "        + (z_i[Iy,:] - zgc[Iy,:]) ** 2\n",
    "        + (z_i[Iz,:] - zgc[Iz,:]) ** 2\n",
    "        + 2 * actionJp(z_i, zgc) / mOmega)\n",
    "    return intxn\n",
    "\n",
    "\"\"\"\n",
    "total Hamiltonian for the ion-electron system in GC coördinates\n",
    "\"\"\"\n",
    "def H_gc_m(z_i, zgc):\n",
    "    ham_0 = H_gc_0(z_i, zgc)\n",
    "    ham_C = H_gc_Cm(z_i, zgc)\n",
    "    return ham_0 + ham_C"
   ]
  },
  {
   "cell_type": "markdown",
   "metadata": {},
   "source": [
    "### Maps using Guiding-center Coördinates"
   ]
  },
  {
   "cell_type": "code",
   "execution_count": 10,
   "metadata": {
    "collapsed": false
   },
   "outputs": [],
   "source": [
    "\"\"\"\n",
    "define transfer maps for ions and electrons\n",
    "There are three maps to define here: one each\n",
    "for ions and electrons under H_0, and another\n",
    "for the interaction under H_c\n",
    "\"\"\"\n",
    "\n",
    "\"\"\"\n",
    "Map phase-space coördinates forward in time by amount h.\n",
    "This map is based on the Hamiltonian H_gc_0, which describes\n",
    "the free motion of ions and the averaged motion of electrons\n",
    "in a solenoidal magnetic field.\n",
    "NB: We do not update the \\Theta coördinate, as it does not\n",
    "contribute to the dynamics of any other variables.\n",
    "\"\"\"\n",
    "def MapZgc_0(h, z_i, zgc):\n",
    "    matD = MatD(M_ion, h)\n",
    "    zf_i = matD.dot(z_i)\n",
    "    zf_e = zgc.copy()\n",
    "    zf_e[Iz,:] += (h / me) * zgc[Ipz,:]\n",
    "    return zf_i, zf_e\n",
    "\n",
    "\"\"\"\n",
    "Map phase-space coördinates forward in time by amount h.\n",
    "This map is based on the Hamiltonian H_gc_C, which describes\n",
    "the collision between a single ion-electron pair in guiding-center\n",
    "coördinates.\n",
    "NB: We do not update the \\Theta coördinate, as it does not\n",
    "contribute to the dynamics of any other variables.\n",
    "\"\"\"\n",
    "def MapZgc_C(h, z_i, zgc):\n",
    "    g_ie = Z_ion * qe ** 2 / (4 * pi * eps0)\n",
    "    mOmega = me * Omega_e\n",
    "    dr3 = ((z_i[Ix,:] - zgc[Ipy,:] / mOmega) ** 2\n",
    "           + (z_i[Iy,:] - zgc[Iy,:]) ** 2\n",
    "           + (z_i[Iz,:] - zgc[Iz,:]) ** 2\n",
    "           + (2 / mOmega) * actionJ(z_i, zgc)) ** (3/2)\n",
    "    Omega_gc = (g_ie / mOmega) / dr3\n",
    "    S = np.sin(Omega_gc * h)\n",
    "    C1 = 2 * np.sin(Omega_gc * (h / 2)) ** 2\n",
    "    zf_i = z_i.copy()\n",
    "    zf_e = zgc.copy()\n",
    "    Dxgc = ((z_i[Ix,:] - zgc[Ipy,:] / mOmega) * C1\n",
    "            + (z_i[Iy,:] - zgc[Iy,:]) * S)\n",
    "    Dygc = ((z_i[Iy,:] - zgc[Iy,:]) * C1\n",
    "            - (z_i[Ix,:]- zgc[Ipy,:] / mOmega) * S)\n",
    "    Dpz = (Omega_gc * h) * mOmega * (z_i[Iz,:] - zgc[Iz,:])\n",
    "    zf_i[Ipx,:] += mOmega * Dygc\n",
    "    zf_i[Ipy,:] -= mOmega * Dxgc\n",
    "    zf_i[Ipz,:] -= Dpz\n",
    "    zf_e[Iy,:]  += Dygc\n",
    "    zf_e[Ipy,:] += mOmega * Dxgc\n",
    "    zf_e[Ipz,:] += Dpz\n",
    "    return zf_i, zf_e\n",
    "\n",
    "def apply_MapZgc_0(h, n, z_i, zgc):\n",
    "    mat_i = MatD(M_ion, h)\n",
    "    mat_e = np.identity(6)\n",
    "    mat_e[Iz, Ipz] = h / me\n",
    "    zf_i = [z_i]\n",
    "    zf_e = [zgc]\n",
    "    for i in range(n):\n",
    "        z_i = mat_i.dot(z_i)\n",
    "        zgc = mat_e.dot(zgc)\n",
    "        zf_i.append(z_i)\n",
    "        zf_e.append(zgc)\n",
    "    return np.asarray(zf_i), np.asarray(zf_e)\n",
    "\n",
    "def apply_MapZgc(h, n, z_i, zgc):\n",
    "    hh = 0.5 * h\n",
    "    mat_i = MatD(M_ion, hh)\n",
    "    mat_e = np.identity(6)\n",
    "    mat_e[Iz, Ipz] = hh / me\n",
    "    zf_i = [z_i]\n",
    "    zf_e = [zgc]\n",
    "    for i in range(n):\n",
    "        z_i = mat_i.dot(z_i)\n",
    "        zgc = mat_e.dot(zgc)\n",
    "        z_i, zgc = MapZgc_C(h, z_i, zgc)\n",
    "        zgc = mat_e.dot(zgc)\n",
    "        z_i = mat_i.dot(z_i)\n",
    "        zf_i.append(z_i)\n",
    "        zf_e.append(zgc) \n",
    "    return np.asarray(zf_i), np.asarray(zf_e)"
   ]
  },
  {
   "cell_type": "markdown",
   "metadata": {},
   "source": [
    "### Maps using the Magnus Expansion"
   ]
  },
  {
   "cell_type": "code",
   "execution_count": 11,
   "metadata": {
    "collapsed": false
   },
   "outputs": [],
   "source": [
    "\"\"\"\n",
    "compute $\\Delta P_\\text{ion}$ using the Magnus expansion\n",
    "\"\"\"\n",
    "def magnus_deltaPIon(h, z_i, zgc):\n",
    "    g_ie = (Z_ion * qe ** 2) / (4 * pi * eps0)\n",
    "    mOmega = me * Omega_e\n",
    "    xgc = zgc[Ipy,:] / mOmega\n",
    "    C1 = ((z_i[Ix,:] - xgc) ** 2\n",
    "        + (z_i[Iy,:] - zgc[Iy,:]) ** 2\n",
    "        + (z_i[Iz,:] - zgc[Iz,:]) ** 2\n",
    "        + (2 / mOmega) * actionJ(z_i, zgc))\n",
    "    C2 = (2 * ((z_i[Ix,:] - xgc) * z_i[Ipx,:] / M_ion\n",
    "             + (z_i[Iy,:] - zgc[Iy,:]) * z_i[Ipy,:] / M_ion\n",
    "             + (z_i[Iz,:] - zgc[Iz,:]) * (z_i[Ipz,:] / M_ion - zgc[Ipz,:] / me)))\n",
    "    C3 = ((z_i[Ipx,:] / M_ion) ** 2\n",
    "        + (z_i[Ipy,:] / M_ion) ** 2\n",
    "        + (z_i[Ipz,:] / M_ion - zgc[Ipz,:] / me) ** 2)\n",
    "    B = np.sqrt(C1 + (C2 + C3 * h) * h)\n",
    "    Delta = 4 * C1 * C3 - C2 ** 2\n",
    "    D1 = (2 * C3 * h + C2) / B - C2 / np.sqrt(C1)\n",
    "    D2 = (C2 * h + 2 * C1) / B - 2 * np.sqrt(C1)\n",
    "    dPx = - ((2 * g_ie / Delta) *\n",
    "             ((z_i[Ix,:] - xgc) * D1 - (z_i[Ipx,:] / M_ion) * D2))\n",
    "    dPy = - ((2 * g_ie / Delta) *\n",
    "             ((z_i[Iy,:] - zgc[Iy,:]) * D1 - (z_i[Ipy,:] / M_ion) * D2))\n",
    "    dPz = - ((2 * g_ie / Delta) *\n",
    "             ((z_i[Iz,:] - zgc[Iz,:]) * D1 - (z_i[Ipz,:] / M_ion - zgc[Ipz,:] / me) * D2))\n",
    "    return np.asarray(( dPx, dPy, dPz)).T"
   ]
  },
  {
   "cell_type": "code",
   "execution_count": 12,
   "metadata": {
    "collapsed": true
   },
   "outputs": [],
   "source": [
    "\"\"\"\n",
    "For the Magnus computation to work well, the interaction must be perturbative.\n",
    "This function return a value for the minimum impact parameter, above which the\n",
    "interaction becomes perturbative.\n",
    "\"\"\"\n",
    "def minImpactParam(magB, EkOverEV, bOverRL):\n",
    "    numer = 2 * EkOverEV * (invFourPiEps0 * Z_ion * me)\n",
    "    denom = ((1 / bOverRL) ** 2 + (tan_alpha / (N_gyro * pi)) ** 2) * magB ** 2\n",
    "    return (numer / denom) ** (1/3)"
   ]
  },
  {
   "cell_type": "markdown",
   "metadata": {},
   "source": [
    "### Conversion from (*Q*,*V*) to (*Q*,*P*)"
   ]
  },
  {
   "cell_type": "code",
   "execution_count": 13,
   "metadata": {
    "collapsed": false
   },
   "outputs": [],
   "source": [
    "\"\"\"\n",
    "define matrix that transforms ion coördinate-velocity data\n",
    "to canonically conjugate phase-space variables\n",
    "\"\"\"\n",
    "QVtoZion = np.identity(6)\n",
    "for i in (Ipx, Ipy, Ipz):\n",
    "    QVtoZion[i, i] = M_ion\n",
    "\n",
    "\"\"\"\n",
    "define matrix that transforms electron coördinate-velocity data\n",
    "to canonically conjugate phase-space variables\n",
    "NB: This depends on the local magnetic vector potential,\n",
    "hence on the local magnetic field.\n",
    "\"\"\"\n",
    "QVtoZe = np.identity(6)\n",
    "for i in (Ipx, Ipy, Ipz):\n",
    "    QVtoZe[i, i] = me\n",
    "QVtoZe[Ipx, Iy] = (-qe) * (-B_mag)"
   ]
  },
  {
   "cell_type": "markdown",
   "metadata": {},
   "source": [
    "# Explore a range of values for the perturbation parameters"
   ]
  },
  {
   "cell_type": "code",
   "execution_count": 14,
   "metadata": {
    "collapsed": true
   },
   "outputs": [],
   "source": [
    "Z_ion = 1\n",
    "M_ion = mp\n",
    "e_temp = 300. # Kelvin\n",
    "B_mag = 1. # Tesla\n",
    "\n",
    "N_gyro = 100    # enforce adequate averaging\n",
    "tan_alpha = 5.0 # and an adequate opening angle\n",
    "\n",
    "\"\"\" derived quantities \"\"\"\n",
    "Omega_e = omega_Larmor(me, B_mag, Z = -1)\n",
    "T_e = (2 * pi) / abs(Omega_e)"
   ]
  },
  {
   "cell_type": "code",
   "execution_count": 17,
   "metadata": {
    "collapsed": false
   },
   "outputs": [
    {
     "name": "stdout",
     "output_type": "stream",
     "text": [
      "3.90333173895\n"
     ]
    }
   ],
   "source": [
    "bOverLarmorR = 20.0 # 20 ==> max perturbation ratio of about 0.1\n",
    "EkinOverVmax = 10.0 # 10 ==> eV_closest_approach / E_kinetic = 0.1\n",
    "print minImpactParam(B_mag, EkinOverVmax, bOverLarmorR) / micro"
   ]
  },
  {
   "cell_type": "code",
   "execution_count": 26,
   "metadata": {
    "collapsed": false
   },
   "outputs": [
    {
     "name": "stdout",
     "output_type": "stream",
     "text": [
      "b / μm =     [   1.            2.15443469    4.64158883   10.           21.5443469    46.41588834  100.        ]\n",
      "b_min / μm = 3.90333173895\n"
     ]
    }
   ],
   "source": [
    "decades = 2\n",
    "pts_per_decade = 3\n",
    "logBs = np.linspace(0., 1. * float(decades), num = 1 + pts_per_decade * decades, endpoint = True)\n",
    "bvals = np.power(10, logBs)\n",
    "impactParameterB = micro * bvals\n",
    "\n",
    "print \"b / μm =    \", impactParameterB / micro\n",
    "print \"b_min / μm =\", minImpactParam(B_mag, EkinOverVmax, bOverLarmorR) / micro"
   ]
  },
  {
   "cell_type": "code",
   "execution_count": 27,
   "metadata": {
    "collapsed": false
   },
   "outputs": [],
   "source": [
    "\"\"\" (the following depend on the impact parameter) \"\"\"\n",
    "LarmorR = impactParameterB / bOverLarmorR  # (this version is defined positive)\n",
    "V_perp = - LarmorR * Omega_e\n",
    "L_intxn = tan_alpha * impactParameterB #[-1] * np.ones_like(impactParameterB)\n",
    "V_z = 2 * L_intxn / (N_gyro * T_e)\n",
    "T_intxn = 2 * L_intxn / V_z"
   ]
  },
  {
   "cell_type": "code",
   "execution_count": 28,
   "metadata": {
    "collapsed": false
   },
   "outputs": [
    {
     "name": "stdout",
     "output_type": "stream",
     "text": [
      "[ 4000.  4000.  4000.  4000.  4000.  4000.  4000.]\n",
      "num_steps = 4000\n"
     ]
    }
   ],
   "source": [
    "num_steps_per_gyro = 40\n",
    "delta_Te = T_e / num_steps_per_gyro\n",
    "print T_intxn / delta_Te\n",
    "num_steps = int(np.floor(T_intxn[0] / delta_Te))\n",
    "print \"num_steps =\", num_steps"
   ]
  },
  {
   "cell_type": "code",
   "execution_count": 29,
   "metadata": {
    "collapsed": false
   },
   "outputs": [],
   "source": [
    "\"\"\" initial condition for the ion --- just one, for now \"\"\"\n",
    "QVion = np.array([\n",
    "          ( 0.0 * rho_gc,  0.000 * V_th, 0.0 * rho_gc,  0.000 * V_th, 0.0,  0.000 * V_th)\n",
    "        ]).transpose()\n",
    "Zion = QVtoZion.dot(QVion)\n",
    "\n",
    "\"\"\" initial conditions for the electrons \"\"\"\n",
    "QVelec = np.asarray([\n",
    "           np.zeros(impactParameterB.shape),\n",
    "           V_perp,\n",
    "           impactParameterB - LarmorR,\n",
    "           np.zeros(impactParameterB.shape),\n",
    "           - L_intxn,\n",
    "           L_intxn * abs(Omega_e) / (pi * N_gyro)\n",
    "        ])\n",
    "Zelec = QVtoZe.dot(QVelec)\n",
    "\n",
    "num_elec0 = Zelec.shape[1]\n",
    "num_ion0 = Zion.shape[1]\n",
    "\n",
    "\"\"\"\n",
    "=== create arrays of electrons and ions ===\n",
    "Here we arrange them so that we can pair each ion with each\n",
    "electron, and compute the \\Delta{p} for each interaction.\n",
    "\"\"\"\n",
    "ZI_elec = np.hstack([Zelec for e in range(num_ion0)])\n",
    "ZI_ion = Zion[:, np.arange(num_ion0 * num_elec0) // num_elec0]\n",
    "\n",
    "num_elec = ZI_elec.shape[1]\n",
    "num_ion = ZI_ion.shape[1]"
   ]
  },
  {
   "cell_type": "code",
   "execution_count": 30,
   "metadata": {
    "collapsed": false
   },
   "outputs": [],
   "source": [
    "ZF_i, ZF_e = apply_MapZ(delta_Te, num_steps, ZI_ion, ZI_elec)"
   ]
  },
  {
   "cell_type": "code",
   "execution_count": 31,
   "metadata": {
    "collapsed": false
   },
   "outputs": [],
   "source": [
    "navg = 1 # number of gyrotron oscillations over which to average; set to 1, 2, 4, 5, or 10\n",
    "ZI_elec_gc = toGuidingCenter(ZI_elec)\n",
    "ZFgc_i, ZFgc_e = apply_MapZgc(navg * 40*delta_Te, num_steps//40 // navg, ZI_ion, ZI_elec_gc)"
   ]
  },
  {
   "cell_type": "code",
   "execution_count": 32,
   "metadata": {
    "collapsed": false
   },
   "outputs": [
    {
     "name": "stdout",
     "output_type": "stream",
     "text": [
      "[[  1.08030578e-26   5.72808106e-26   1.45007842e-27]\n",
      " [  4.03458322e-28   1.66767979e-26   1.38486416e-27]\n",
      " [  2.76032939e-29   6.40599505e-27   9.05956974e-29]\n",
      " [  7.85620796e-31   1.58638251e-27   2.60010730e-30]\n",
      " [  1.75039675e-32   3.47567664e-28   5.80271684e-32]\n",
      " [  3.78408946e-34   7.50099341e-29   1.25468090e-33]\n",
      " [  8.15538018e-36   1.61631831e-29   2.70410697e-35]]\n",
      "\n",
      "[[  1.05836708e-26   5.67504416e-26   8.51768805e-28]\n",
      " [  4.00940540e-28   1.66262914e-26   1.38431451e-27]\n",
      " [  2.74641067e-29   6.39066436e-27   9.05285901e-29]\n",
      " [  7.81439841e-31   1.58238970e-27   2.59745819e-30]\n",
      " [  1.74099270e-32   3.46684860e-28   5.79654896e-32]\n",
      " [  3.76373889e-34   7.48192282e-29   1.25334141e-33]\n",
      " [  8.11151685e-36   1.61220857e-29   2.70121883e-35]]\n",
      "\n",
      "[[ -0.00000000e+00   1.61222627e-25  -1.01894869e-40]\n",
      " [ -0.00000000e+00   3.47345583e-26  -3.78365367e-41]\n",
      " [ -0.00000000e+00   7.48333795e-27  -0.00000000e+00]\n",
      " [ -0.00000000e+00   1.61223638e-27  -0.00000000e+00]\n",
      " [ -0.00000000e+00   3.47345800e-28  -0.00000000e+00]\n",
      " [ -0.00000000e+00   7.48333842e-29  -4.49591691e-44]\n",
      " [ -0.00000000e+00   1.61223639e-29  -0.00000000e+00]]\n"
     ]
    }
   ],
   "source": [
    "deltaP_exp = np.array(ZF_i[-1, [Ipx, Ipy, Ipz], :] - ZF_i[0, [Ipx, Ipy, Ipz], :]).T\n",
    "deltaP_avg = np.array(ZFgc_i[-1, [Ipx, Ipy, Ipz], :] - ZFgc_i[0, [Ipx, Ipy, Ipz], :]).T\n",
    "deltaP_mgn = magnus_deltaPIon(T_intxn, ZI_ion, ZI_elec_gc)\n",
    "\n",
    "print deltaP_exp\n",
    "print\n",
    "print deltaP_avg\n",
    "print\n",
    "print deltaP_mgn"
   ]
  },
  {
   "cell_type": "code",
   "execution_count": 33,
   "metadata": {
    "collapsed": false
   },
   "outputs": [
    {
     "data": {
      "image/png": "[encoded data removed]",
      "text/plain": [
       "<matplotlib.figure.Figure at 0x10c968950>"
      ]
     },
     "metadata": {},
     "output_type": "display_data"
    }
   ],
   "source": [
    "dDeltaP_ax = deltaP_avg - deltaP_exp\n",
    "dDeltaP_mx = deltaP_mgn - deltaP_exp\n",
    "\n",
    "relErr_avg = (np.linalg.norm(dDeltaP_ax, axis = 1)\n",
    "             / np.linalg.norm(deltaP_exp, axis = 1))\n",
    "relErr_mgn = (np.linalg.norm(dDeltaP_mx, axis = 1)\n",
    "             / np.linalg.norm(deltaP_exp, axis = 1))\n",
    "\n",
    "eV_closest_approach = (invFourPiEps0 * Z_ion * qe ** 2 / impactParameterB)\n",
    "E_kinetic_e = (me / 2) * (V_perp ** 2 + V_z ** 2)\n",
    "eVcaOverEkin = eV_closest_approach / E_kinetic_e\n",
    "\n",
    "llres = plt.figure()\n",
    "plt.loglog(eVcaOverEkin, relErr_avg, 'bo')\n",
    "plt.loglog(eVcaOverEkin, relErr_mgn, 'rs')\n",
    "plt.annotate(s=\"Averging\",xy=(1.e-1,1.e-3))\n",
    "plt.annotate(s=\"Magnus\",xy=(1.e-2,5.e-1))\n",
    "\n",
    "plt.xlabel(\"$eV_{\\mathrm{ca}} / E_{\\mathrm{kin}}$\")\n",
    "plt.ylabel(\"relative error in $\\Delta{P}_{\\mathrm{ion}}$\")\n",
    "\n",
    "plt.show()\n",
    "\n",
    "llres.savefig(\"/Users/dabell/Desktop/foo.pdf\")"
   ]
  },
  {
   "cell_type": "code",
   "execution_count": null,
   "metadata": {
    "collapsed": true
   },
   "outputs": [],
   "source": [
    "mae_compare.savefig(\"/Users/dabell/RadiaSoft/MCool/MgnAvgExpCompare.pdf\")"
   ]
  }
 ],
 "metadata": {
  "anaconda-cloud": {},
  "celltoolbar": "Raw Cell Format",
  "kernelspec": {
   "display_name": "Python [Root]",
   "language": "python",
   "name": "Python [Root]"
  },
  "language_info": {
   "codemirror_mode": {
    "name": "ipython",
    "version": 2
   },
   "file_extension": ".py",
   "mimetype": "text/x-python",
   "name": "python",
   "nbconvert_exporter": "python",
   "pygments_lexer": "ipython2",
   "version": "2.7.12"
  }
 },
 "nbformat": 4,
 "nbformat_minor": 0
}
